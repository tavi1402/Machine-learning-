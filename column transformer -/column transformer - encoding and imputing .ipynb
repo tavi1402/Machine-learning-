{
 "cells": [
  {
   "cell_type": "code",
   "execution_count": 1,
   "metadata": {},
   "outputs": [],
   "source": [
    "import numpy as np\n",
    "import pandas as pd"
   ]
  },
  {
   "cell_type": "code",
   "execution_count": 2,
   "metadata": {},
   "outputs": [],
   "source": [
    "from sklearn.impute import SimpleImputer\n",
    "from sklearn.preprocessing import OneHotEncoder\n",
    "from sklearn.preprocessing import OrdinalEncoder"
   ]
  },
  {
   "cell_type": "code",
   "execution_count": 3,
   "metadata": {},
   "outputs": [],
   "source": [
    "df = pd.read_csv('covid_toy.csv')"
   ]
  },
  {
   "cell_type": "code",
   "execution_count": 4,
   "metadata": {},
   "outputs": [
    {
     "data": {
      "text/html": [
       "<div>\n",
       "<style scoped>\n",
       "    .dataframe tbody tr th:only-of-type {\n",
       "        vertical-align: middle;\n",
       "    }\n",
       "\n",
       "    .dataframe tbody tr th {\n",
       "        vertical-align: top;\n",
       "    }\n",
       "\n",
       "    .dataframe thead th {\n",
       "        text-align: right;\n",
       "    }\n",
       "</style>\n",
       "<table border=\"1\" class=\"dataframe\">\n",
       "  <thead>\n",
       "    <tr style=\"text-align: right;\">\n",
       "      <th></th>\n",
       "      <th>age</th>\n",
       "      <th>gender</th>\n",
       "      <th>fever</th>\n",
       "      <th>cough</th>\n",
       "      <th>city</th>\n",
       "      <th>has_covid</th>\n",
       "    </tr>\n",
       "  </thead>\n",
       "  <tbody>\n",
       "    <tr>\n",
       "      <th>0</th>\n",
       "      <td>60</td>\n",
       "      <td>Male</td>\n",
       "      <td>103.0</td>\n",
       "      <td>Mild</td>\n",
       "      <td>Kolkata</td>\n",
       "      <td>No</td>\n",
       "    </tr>\n",
       "    <tr>\n",
       "      <th>1</th>\n",
       "      <td>27</td>\n",
       "      <td>Male</td>\n",
       "      <td>100.0</td>\n",
       "      <td>Mild</td>\n",
       "      <td>Delhi</td>\n",
       "      <td>Yes</td>\n",
       "    </tr>\n",
       "    <tr>\n",
       "      <th>2</th>\n",
       "      <td>42</td>\n",
       "      <td>Male</td>\n",
       "      <td>101.0</td>\n",
       "      <td>Mild</td>\n",
       "      <td>Delhi</td>\n",
       "      <td>No</td>\n",
       "    </tr>\n",
       "    <tr>\n",
       "      <th>3</th>\n",
       "      <td>31</td>\n",
       "      <td>Female</td>\n",
       "      <td>98.0</td>\n",
       "      <td>Mild</td>\n",
       "      <td>Kolkata</td>\n",
       "      <td>No</td>\n",
       "    </tr>\n",
       "    <tr>\n",
       "      <th>4</th>\n",
       "      <td>65</td>\n",
       "      <td>Female</td>\n",
       "      <td>101.0</td>\n",
       "      <td>Mild</td>\n",
       "      <td>Mumbai</td>\n",
       "      <td>No</td>\n",
       "    </tr>\n",
       "  </tbody>\n",
       "</table>\n",
       "</div>"
      ],
      "text/plain": [
       "   age  gender  fever cough     city has_covid\n",
       "0   60    Male  103.0  Mild  Kolkata        No\n",
       "1   27    Male  100.0  Mild    Delhi       Yes\n",
       "2   42    Male  101.0  Mild    Delhi        No\n",
       "3   31  Female   98.0  Mild  Kolkata        No\n",
       "4   65  Female  101.0  Mild   Mumbai        No"
      ]
     },
     "execution_count": 4,
     "metadata": {},
     "output_type": "execute_result"
    }
   ],
   "source": [
    "df.head()"
   ]
  },
  {
   "cell_type": "code",
   "execution_count": 5,
   "metadata": {},
   "outputs": [
    {
     "data": {
      "text/plain": [
       "age           0\n",
       "gender        0\n",
       "fever        10\n",
       "cough         0\n",
       "city          0\n",
       "has_covid     0\n",
       "dtype: int64"
      ]
     },
     "execution_count": 5,
     "metadata": {},
     "output_type": "execute_result"
    }
   ],
   "source": [
    "df.isnull().sum()"
   ]
  },
  {
   "cell_type": "code",
   "execution_count": 6,
   "metadata": {},
   "outputs": [],
   "source": [
    "from sklearn.model_selection import train_test_split\n",
    "X_train,X_test,y_train,y_test = train_test_split(df.drop(columns=['has_covid']),df['has_covid'],\n",
    "                                                test_size=0.2)"
   ]
  },
  {
   "cell_type": "code",
   "execution_count": 7,
   "metadata": {},
   "outputs": [
    {
     "data": {
      "text/html": [
       "<div>\n",
       "<style scoped>\n",
       "    .dataframe tbody tr th:only-of-type {\n",
       "        vertical-align: middle;\n",
       "    }\n",
       "\n",
       "    .dataframe tbody tr th {\n",
       "        vertical-align: top;\n",
       "    }\n",
       "\n",
       "    .dataframe thead th {\n",
       "        text-align: right;\n",
       "    }\n",
       "</style>\n",
       "<table border=\"1\" class=\"dataframe\">\n",
       "  <thead>\n",
       "    <tr style=\"text-align: right;\">\n",
       "      <th></th>\n",
       "      <th>age</th>\n",
       "      <th>gender</th>\n",
       "      <th>fever</th>\n",
       "      <th>cough</th>\n",
       "      <th>city</th>\n",
       "    </tr>\n",
       "  </thead>\n",
       "  <tbody>\n",
       "    <tr>\n",
       "      <th>32</th>\n",
       "      <td>34</td>\n",
       "      <td>Female</td>\n",
       "      <td>101.0</td>\n",
       "      <td>Strong</td>\n",
       "      <td>Delhi</td>\n",
       "    </tr>\n",
       "    <tr>\n",
       "      <th>78</th>\n",
       "      <td>11</td>\n",
       "      <td>Male</td>\n",
       "      <td>100.0</td>\n",
       "      <td>Mild</td>\n",
       "      <td>Bangalore</td>\n",
       "    </tr>\n",
       "    <tr>\n",
       "      <th>10</th>\n",
       "      <td>75</td>\n",
       "      <td>Female</td>\n",
       "      <td>NaN</td>\n",
       "      <td>Mild</td>\n",
       "      <td>Delhi</td>\n",
       "    </tr>\n",
       "    <tr>\n",
       "      <th>69</th>\n",
       "      <td>73</td>\n",
       "      <td>Female</td>\n",
       "      <td>103.0</td>\n",
       "      <td>Mild</td>\n",
       "      <td>Delhi</td>\n",
       "    </tr>\n",
       "    <tr>\n",
       "      <th>36</th>\n",
       "      <td>38</td>\n",
       "      <td>Female</td>\n",
       "      <td>101.0</td>\n",
       "      <td>Mild</td>\n",
       "      <td>Bangalore</td>\n",
       "    </tr>\n",
       "    <tr>\n",
       "      <th>...</th>\n",
       "      <td>...</td>\n",
       "      <td>...</td>\n",
       "      <td>...</td>\n",
       "      <td>...</td>\n",
       "      <td>...</td>\n",
       "    </tr>\n",
       "    <tr>\n",
       "      <th>35</th>\n",
       "      <td>82</td>\n",
       "      <td>Female</td>\n",
       "      <td>102.0</td>\n",
       "      <td>Strong</td>\n",
       "      <td>Bangalore</td>\n",
       "    </tr>\n",
       "    <tr>\n",
       "      <th>4</th>\n",
       "      <td>65</td>\n",
       "      <td>Female</td>\n",
       "      <td>101.0</td>\n",
       "      <td>Mild</td>\n",
       "      <td>Mumbai</td>\n",
       "    </tr>\n",
       "    <tr>\n",
       "      <th>53</th>\n",
       "      <td>83</td>\n",
       "      <td>Male</td>\n",
       "      <td>98.0</td>\n",
       "      <td>Mild</td>\n",
       "      <td>Delhi</td>\n",
       "    </tr>\n",
       "    <tr>\n",
       "      <th>77</th>\n",
       "      <td>8</td>\n",
       "      <td>Female</td>\n",
       "      <td>101.0</td>\n",
       "      <td>Mild</td>\n",
       "      <td>Kolkata</td>\n",
       "    </tr>\n",
       "    <tr>\n",
       "      <th>31</th>\n",
       "      <td>83</td>\n",
       "      <td>Male</td>\n",
       "      <td>103.0</td>\n",
       "      <td>Mild</td>\n",
       "      <td>Kolkata</td>\n",
       "    </tr>\n",
       "  </tbody>\n",
       "</table>\n",
       "<p>80 rows × 5 columns</p>\n",
       "</div>"
      ],
      "text/plain": [
       "    age  gender  fever   cough       city\n",
       "32   34  Female  101.0  Strong      Delhi\n",
       "78   11    Male  100.0    Mild  Bangalore\n",
       "10   75  Female    NaN    Mild      Delhi\n",
       "69   73  Female  103.0    Mild      Delhi\n",
       "36   38  Female  101.0    Mild  Bangalore\n",
       "..  ...     ...    ...     ...        ...\n",
       "35   82  Female  102.0  Strong  Bangalore\n",
       "4    65  Female  101.0    Mild     Mumbai\n",
       "53   83    Male   98.0    Mild      Delhi\n",
       "77    8  Female  101.0    Mild    Kolkata\n",
       "31   83    Male  103.0    Mild    Kolkata\n",
       "\n",
       "[80 rows x 5 columns]"
      ]
     },
     "execution_count": 7,
     "metadata": {},
     "output_type": "execute_result"
    }
   ],
   "source": [
    "X_train"
   ]
  },
  {
   "cell_type": "code",
   "execution_count": 17,
   "metadata": {},
   "outputs": [
    {
     "data": {
      "text/plain": [
       "age       0\n",
       "gender    0\n",
       "fever     8\n",
       "cough     0\n",
       "city      0\n",
       "dtype: int64"
      ]
     },
     "execution_count": 17,
     "metadata": {},
     "output_type": "execute_result"
    }
   ],
   "source": [
    "X_train.isna().sum()"
   ]
  },
  {
   "cell_type": "markdown",
   "metadata": {},
   "source": [
    "# simple imputing, ordinary encoding , ordinlencoding"
   ]
  },
  {
   "cell_type": "markdown",
   "metadata": {},
   "source": [
    "## SimpleImputer - \n",
    "\n",
    "### we can use simple imputer to handle missing values in both categorical and numerical value"
   ]
  },
  {
   "cell_type": "code",
   "execution_count": 8,
   "metadata": {},
   "outputs": [
    {
     "data": {
      "text/plain": [
       "(80, 1)"
      ]
     },
     "execution_count": 8,
     "metadata": {},
     "output_type": "execute_result"
    }
   ],
   "source": [
    "# adding simple imputer to fever col\n",
    "si = SimpleImputer()\n",
    "X_train_fever = si.fit_transform(X_train[['fever']])\n",
    "\n",
    "# also the test data\n",
    "X_test_fever = si.fit_transform(X_test[['fever']])\n",
    "                                 \n",
    "X_train_fever.shape"
   ]
  },
  {
   "cell_type": "markdown",
   "metadata": {},
   "source": [
    "## Ordinalencoding \n",
    "categories will be given not oder\n"
   ]
  },
  {
   "cell_type": "code",
   "execution_count": 9,
   "metadata": {},
   "outputs": [
    {
     "data": {
      "text/plain": [
       "(80, 1)"
      ]
     },
     "execution_count": 9,
     "metadata": {},
     "output_type": "execute_result"
    }
   ],
   "source": [
    "# Ordinalencoding -> cough\n",
    "oe = OrdinalEncoder(categories=[['Mild','Strong']])\n",
    "X_train_cough = oe.fit_transform(X_train[['cough']])\n",
    "\n",
    "# also the test data\n",
    "X_test_cough = oe.fit_transform(X_test[['cough']])\n",
    "\n",
    "X_train_cough.shape"
   ]
  },
  {
   "cell_type": "markdown",
   "metadata": {},
   "source": [
    "## OneHotEncoder-\n",
    "### Note: OneHotEncoder can’t handle missing values, hence it is important to get rid of them before encoding"
   ]
  },
  {
   "cell_type": "code",
   "execution_count": 10,
   "metadata": {},
   "outputs": [
    {
     "data": {
      "text/plain": [
       "(80, 4)"
      ]
     },
     "execution_count": 10,
     "metadata": {},
     "output_type": "execute_result"
    }
   ],
   "source": [
    "# OneHotEncoding -> gender,city\n",
    "ohe = OneHotEncoder(drop='first',sparse=False)\n",
    "X_train_gender_city = ohe.fit_transform(X_train[['gender','city']])\n",
    "\n",
    "# also the test data\n",
    "X_test_gender_city = ohe.fit_transform(X_test[['gender','city']])\n",
    "\n",
    "X_train_gender_city.shape"
   ]
  },
  {
   "cell_type": "code",
   "execution_count": 11,
   "metadata": {},
   "outputs": [
    {
     "data": {
      "text/plain": [
       "(80, 1)"
      ]
     },
     "execution_count": 11,
     "metadata": {},
     "output_type": "execute_result"
    }
   ],
   "source": [
    "# Extracting Age\n",
    "X_train_age = X_train.drop(columns=['gender','fever','cough','city']).values\n",
    "\n",
    "# also the test data\n",
    "X_test_age = X_test.drop(columns=['gender','fever','cough','city']).values\n",
    "\n",
    "X_train_age.shape"
   ]
  },
  {
   "cell_type": "code",
   "execution_count": 12,
   "metadata": {},
   "outputs": [
    {
     "data": {
      "text/plain": [
       "(80, 7)"
      ]
     },
     "execution_count": 12,
     "metadata": {},
     "output_type": "execute_result"
    }
   ],
   "source": [
    "X_train_transformed = np.concatenate((X_train_age,X_train_fever,X_train_gender_city,X_train_cough),axis=1)\n",
    "# also the test data\n",
    "X_test_transformed = np.concatenate((X_test_age,X_test_fever,X_test_gender_city,X_test_cough),axis=1)\n",
    "\n",
    "X_train_transformed.shape"
   ]
  },
  {
   "cell_type": "code",
   "execution_count": 13,
   "metadata": {},
   "outputs": [
    {
     "data": {
      "text/plain": [
       "array([[ 34.        , 101.        ,   0.        ,   1.        ,\n",
       "          0.        ,   0.        ,   1.        ],\n",
       "       [ 11.        , 100.        ,   1.        ,   0.        ,\n",
       "          0.        ,   0.        ,   0.        ],\n",
       "       [ 75.        , 100.80555556,   0.        ,   1.        ,\n",
       "          0.        ,   0.        ,   0.        ],\n",
       "       [ 73.        , 103.        ,   0.        ,   1.        ,\n",
       "          0.        ,   0.        ,   0.        ],\n",
       "       [ 38.        , 101.        ,   0.        ,   0.        ,\n",
       "          0.        ,   0.        ,   0.        ],\n",
       "       [ 22.        ,  99.        ,   0.        ,   0.        ,\n",
       "          0.        ,   0.        ,   0.        ],\n",
       "       [ 51.        , 104.        ,   1.        ,   0.        ,\n",
       "          1.        ,   0.        ,   0.        ],\n",
       "       [ 13.        , 100.        ,   0.        ,   0.        ,\n",
       "          1.        ,   0.        ,   1.        ],\n",
       "       [  5.        ,  98.        ,   0.        ,   0.        ,\n",
       "          0.        ,   1.        ,   1.        ],\n",
       "       [ 23.        , 100.80555556,   1.        ,   0.        ,\n",
       "          0.        ,   1.        ,   0.        ],\n",
       "       [ 64.        , 101.        ,   0.        ,   1.        ,\n",
       "          0.        ,   0.        ,   0.        ],\n",
       "       [ 34.        ,  98.        ,   1.        ,   0.        ,\n",
       "          1.        ,   0.        ,   1.        ],\n",
       "       [ 27.        , 100.        ,   1.        ,   1.        ,\n",
       "          0.        ,   0.        ,   0.        ],\n",
       "       [ 65.        ,  99.        ,   1.        ,   0.        ,\n",
       "          0.        ,   0.        ,   0.        ],\n",
       "       [  5.        , 100.        ,   0.        ,   0.        ,\n",
       "          1.        ,   0.        ,   0.        ],\n",
       "       [ 51.        , 104.        ,   1.        ,   0.        ,\n",
       "          0.        ,   0.        ,   0.        ],\n",
       "       [ 84.        , 100.80555556,   0.        ,   0.        ,\n",
       "          0.        ,   0.        ,   0.        ],\n",
       "       [ 20.        , 100.80555556,   0.        ,   0.        ,\n",
       "          0.        ,   1.        ,   1.        ],\n",
       "       [ 59.        ,  99.        ,   0.        ,   1.        ,\n",
       "          0.        ,   0.        ,   1.        ],\n",
       "       [ 10.        ,  98.        ,   0.        ,   0.        ,\n",
       "          1.        ,   0.        ,   1.        ],\n",
       "       [ 23.        ,  98.        ,   1.        ,   0.        ,\n",
       "          0.        ,   1.        ,   1.        ],\n",
       "       [ 31.        ,  98.        ,   0.        ,   0.        ,\n",
       "          1.        ,   0.        ,   0.        ],\n",
       "       [ 70.        , 103.        ,   1.        ,   0.        ,\n",
       "          1.        ,   0.        ,   1.        ],\n",
       "       [ 82.        , 102.        ,   0.        ,   0.        ,\n",
       "          1.        ,   0.        ,   1.        ],\n",
       "       [ 11.        , 100.        ,   0.        ,   0.        ,\n",
       "          1.        ,   0.        ,   1.        ],\n",
       "       [ 14.        , 101.        ,   1.        ,   0.        ,\n",
       "          0.        ,   0.        ,   1.        ],\n",
       "       [ 82.        , 100.80555556,   1.        ,   0.        ,\n",
       "          1.        ,   0.        ,   0.        ],\n",
       "       [ 72.        ,  99.        ,   1.        ,   0.        ,\n",
       "          0.        ,   0.        ,   0.        ],\n",
       "       [ 14.        ,  99.        ,   0.        ,   0.        ,\n",
       "          0.        ,   1.        ,   0.        ],\n",
       "       [ 38.        , 100.80555556,   1.        ,   1.        ,\n",
       "          0.        ,   0.        ,   0.        ],\n",
       "       [ 48.        , 103.        ,   0.        ,   0.        ,\n",
       "          1.        ,   0.        ,   0.        ],\n",
       "       [  6.        , 104.        ,   0.        ,   0.        ,\n",
       "          1.        ,   0.        ,   0.        ],\n",
       "       [ 18.        , 104.        ,   0.        ,   0.        ,\n",
       "          0.        ,   0.        ,   0.        ],\n",
       "       [ 47.        , 100.        ,   0.        ,   0.        ,\n",
       "          0.        ,   0.        ,   1.        ],\n",
       "       [ 51.        , 101.        ,   0.        ,   0.        ,\n",
       "          1.        ,   0.        ,   1.        ],\n",
       "       [ 60.        ,  99.        ,   0.        ,   0.        ,\n",
       "          0.        ,   1.        ,   0.        ],\n",
       "       [ 27.        , 100.        ,   1.        ,   0.        ,\n",
       "          1.        ,   0.        ,   0.        ],\n",
       "       [ 68.        , 101.        ,   0.        ,   1.        ,\n",
       "          0.        ,   0.        ,   1.        ],\n",
       "       [ 71.        ,  98.        ,   0.        ,   0.        ,\n",
       "          1.        ,   0.        ,   1.        ],\n",
       "       [ 20.        , 101.        ,   0.        ,   0.        ,\n",
       "          0.        ,   0.        ,   0.        ],\n",
       "       [ 12.        , 104.        ,   0.        ,   0.        ,\n",
       "          0.        ,   0.        ,   0.        ],\n",
       "       [ 80.        , 100.        ,   1.        ,   0.        ,\n",
       "          0.        ,   0.        ,   0.        ],\n",
       "       [ 24.        ,  98.        ,   1.        ,   0.        ,\n",
       "          1.        ,   0.        ,   0.        ],\n",
       "       [ 25.        ,  99.        ,   0.        ,   0.        ,\n",
       "          1.        ,   0.        ,   1.        ],\n",
       "       [ 65.        ,  99.        ,   1.        ,   1.        ,\n",
       "          0.        ,   0.        ,   0.        ],\n",
       "       [ 55.        , 100.        ,   1.        ,   0.        ,\n",
       "          1.        ,   0.        ,   0.        ],\n",
       "       [ 49.        , 101.        ,   0.        ,   1.        ,\n",
       "          0.        ,   0.        ,   0.        ],\n",
       "       [ 19.        , 100.        ,   0.        ,   0.        ,\n",
       "          1.        ,   0.        ,   0.        ],\n",
       "       [ 50.        , 103.        ,   0.        ,   0.        ,\n",
       "          1.        ,   0.        ,   0.        ],\n",
       "       [ 64.        , 102.        ,   1.        ,   0.        ,\n",
       "          0.        ,   0.        ,   0.        ],\n",
       "       [ 65.        ,  98.        ,   0.        ,   0.        ,\n",
       "          0.        ,   1.        ,   0.        ],\n",
       "       [ 34.        , 104.        ,   0.        ,   1.        ,\n",
       "          0.        ,   0.        ,   1.        ],\n",
       "       [ 69.        , 102.        ,   0.        ,   0.        ,\n",
       "          0.        ,   0.        ,   0.        ],\n",
       "       [ 69.        , 103.        ,   0.        ,   0.        ,\n",
       "          1.        ,   0.        ,   0.        ],\n",
       "       [ 79.        , 100.80555556,   1.        ,   0.        ,\n",
       "          1.        ,   0.        ,   1.        ],\n",
       "       [ 73.        ,  98.        ,   1.        ,   0.        ,\n",
       "          0.        ,   0.        ,   0.        ],\n",
       "       [ 17.        , 104.        ,   0.        ,   0.        ,\n",
       "          1.        ,   0.        ,   0.        ],\n",
       "       [ 19.        , 100.        ,   0.        ,   0.        ,\n",
       "          0.        ,   0.        ,   1.        ],\n",
       "       [ 66.        ,  99.        ,   1.        ,   0.        ,\n",
       "          0.        ,   0.        ,   1.        ],\n",
       "       [ 42.        , 104.        ,   1.        ,   0.        ,\n",
       "          0.        ,   1.        ,   0.        ],\n",
       "       [ 54.        , 104.        ,   0.        ,   0.        ,\n",
       "          1.        ,   0.        ,   1.        ],\n",
       "       [ 19.        , 101.        ,   1.        ,   1.        ,\n",
       "          0.        ,   0.        ,   0.        ],\n",
       "       [ 64.        ,  98.        ,   0.        ,   0.        ,\n",
       "          0.        ,   0.        ,   0.        ],\n",
       "       [ 81.        , 101.        ,   0.        ,   0.        ,\n",
       "          0.        ,   1.        ,   0.        ],\n",
       "       [ 83.        , 101.        ,   0.        ,   0.        ,\n",
       "          1.        ,   0.        ,   0.        ],\n",
       "       [ 34.        , 100.80555556,   0.        ,   0.        ,\n",
       "          0.        ,   1.        ,   1.        ],\n",
       "       [ 25.        , 104.        ,   1.        ,   0.        ,\n",
       "          0.        ,   0.        ,   0.        ],\n",
       "       [  5.        , 102.        ,   1.        ,   0.        ,\n",
       "          1.        ,   0.        ,   0.        ],\n",
       "       [ 44.        , 104.        ,   1.        ,   0.        ,\n",
       "          0.        ,   1.        ,   0.        ],\n",
       "       [ 12.        ,  98.        ,   1.        ,   0.        ,\n",
       "          0.        ,   0.        ,   1.        ],\n",
       "       [ 19.        , 101.        ,   0.        ,   0.        ,\n",
       "          0.        ,   1.        ,   0.        ],\n",
       "       [ 56.        , 104.        ,   0.        ,   0.        ,\n",
       "          0.        ,   0.        ,   1.        ],\n",
       "       [ 47.        , 101.        ,   1.        ,   0.        ,\n",
       "          0.        ,   0.        ,   1.        ],\n",
       "       [ 26.        ,  98.        ,   0.        ,   0.        ,\n",
       "          1.        ,   0.        ,   0.        ],\n",
       "       [ 74.        , 102.        ,   1.        ,   0.        ,\n",
       "          0.        ,   1.        ,   0.        ],\n",
       "       [ 82.        , 102.        ,   0.        ,   0.        ,\n",
       "          0.        ,   0.        ,   1.        ],\n",
       "       [ 65.        , 101.        ,   0.        ,   0.        ,\n",
       "          0.        ,   1.        ,   0.        ],\n",
       "       [ 83.        ,  98.        ,   1.        ,   1.        ,\n",
       "          0.        ,   0.        ,   0.        ],\n",
       "       [  8.        , 101.        ,   0.        ,   0.        ,\n",
       "          1.        ,   0.        ,   0.        ],\n",
       "       [ 83.        , 103.        ,   1.        ,   0.        ,\n",
       "          1.        ,   0.        ,   0.        ]])"
      ]
     },
     "execution_count": 13,
     "metadata": {},
     "output_type": "execute_result"
    }
   ],
   "source": [
    "X_train_transformed"
   ]
  },
  {
   "cell_type": "markdown",
   "metadata": {},
   "source": [
    "## ColumnTransformer\n",
    "\n",
    "#### ColumnTransformer enables us to transform a specified set of columns. It helps us to apply multiple transforms to multiple columns with a single fit() or fit_transform() statement. For example, we can mean impute the first column and one hot encode the second column of a data frame with a single fit() or fit_transform() statement. ColumnTransformer class can be imported from ‘sklearn.compose’ module as shown below."
   ]
  },
  {
   "cell_type": "code",
   "execution_count": 32,
   "metadata": {},
   "outputs": [],
   "source": [
    "from sklearn.compose import ColumnTransformer"
   ]
  },
  {
   "cell_type": "code",
   "execution_count": 95,
   "metadata": {},
   "outputs": [],
   "source": [
    "transformer = ColumnTransformer(transformers=[\n",
    "    ('tnf1',SimpleImputer(),['fever']),\n",
    "    ('tnf2',OrdinalEncoder(categories=[['Mild','Strong']]),['cough']),\n",
    "    ('tnf3',OneHotEncoder(sparse=False,drop='first'),['gender','city'])\n",
    "],remainder='passthrough')"
   ]
  },
  {
   "cell_type": "code",
   "execution_count": 97,
   "metadata": {},
   "outputs": [
    {
     "data": {
      "text/plain": [
       "(80, 7)"
      ]
     },
     "execution_count": 97,
     "metadata": {},
     "output_type": "execute_result"
    }
   ],
   "source": [
    "transformer.fit_transform(X_train).shape"
   ]
  },
  {
   "cell_type": "code",
   "execution_count": 99,
   "metadata": {},
   "outputs": [
    {
     "data": {
      "text/plain": [
       "(20, 7)"
      ]
     },
     "execution_count": 99,
     "metadata": {},
     "output_type": "execute_result"
    }
   ],
   "source": [
    "transformer.transform(X_test).shape"
   ]
  },
  {
   "cell_type": "markdown",
   "metadata": {},
   "source": [
    "# Binning\n",
    "\n",
    "### The Numerical Features can be converted to categorical by binnng that feature. This will help in generalising the model better.\n"
   ]
  },
  {
   "cell_type": "code",
   "execution_count": null,
   "metadata": {},
   "outputs": [],
   "source": [
    "# we can use scikit-learn's Function Transfomer to use pandas qcut method for creating bins \n",
    "## Age Feature\n",
    "# bins = [20, 30, 40, 50, 60, np.inf]\n",
    "# labels = ['young_adult', 'adult', 'middle_aged', 'elderly', 'senior_citizen']\n",
    "# age_transformer = FunctionTransformer(\n",
    "#     pd.cut, kw_args={'bins': bins, 'labels': labels, 'retbins': False}\n",
    "#     )\n",
    "# input_df[\"age\"] = age_transformer.fit_transform(input_df[\"age\"])\n",
    "# test_df[\"age\"] = age_transformer.transform(test_df[\"age\"])"
   ]
  }
 ],
 "metadata": {
  "kernelspec": {
   "display_name": "Python 3 (ipykernel)",
   "language": "python",
   "name": "python3"
  },
  "language_info": {
   "codemirror_mode": {
    "name": "ipython",
    "version": 3
   },
   "file_extension": ".py",
   "mimetype": "text/x-python",
   "name": "python",
   "nbconvert_exporter": "python",
   "pygments_lexer": "ipython3",
   "version": "3.9.12"
  }
 },
 "nbformat": 4,
 "nbformat_minor": 4
}
